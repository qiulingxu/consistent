{
 "cells": [
  {
   "cell_type": "code",
   "execution_count": null,
   "id": "d903b601",
   "metadata": {},
   "outputs": [],
   "source": [
    "%load_ext autoreload\n",
    "%autoreload 2"
   ]
  },
  {
   "cell_type": "code",
   "execution_count": null,
   "id": "84614503",
   "metadata": {},
   "outputs": [],
   "source": [
    "import matplotlib.pyplot as plt\n",
    "import pandas as pd\n",
    "from cl.eval import EvalReader as EPPS\n",
    "import seaborn as sns\n"
   ]
  },
  {
   "cell_type": "code",
   "execution_count": null,
   "id": "a19b7468",
   "metadata": {},
   "outputs": [],
   "source": [
    "def common_parse(name, add):\n",
    "    if name.find(\"pertask\")>=0:\n",
    "        _, tid, fold = name.split(\"_\")\n",
    "        name = \"{} on fold {}\".format(tid, fold)\n",
    "    return \"Result of Task {} {}:\".format(name, add)\n",
    "def listdct_to_dct(lst, kname, vname):\n",
    "    ret = {}\n",
    "    for d in lst:\n",
    "        ret[tuple(d[kname])] = d[vname]\n",
    "    return ret\n",
    "def parse_pairwise_ic(name, measure):\n",
    "    tname = common_parse(name, \"Pairwise Inconsistency\")\n",
    "    print(tname)\n",
    "    pairwise = listdct_to_dct(measure[\"inconsist_pairwise\"], kname=\"compare\", vname=\"consistency\")\n",
    "    idx = measure[\"index\"]\n",
    "    l = len(idx)\n",
    "    _idx_name = [\"Model {}\".format(i) for i in idx]\n",
    "    _df = pd.DataFrame(index = _idx_name[:-1], columns = _idx_name[1:]).fillna(\"\")\n",
    "    for i in range(l):\n",
    "        for j in range(i+1, l):\n",
    "            _df.loc[_idx_name[i], _idx_name[j]] = pairwise[(idx[i],idx[j])]\n",
    "    #_df.style.set_caption(tname)\n",
    "    print(_df)\n",
    "    return _df\n",
    "\n",
    "def parse_acc(name, measure):\n",
    "    print(common_parse(name, \"Accuracy Per Step\"))\n",
    "    for i in range(len(measure[\"index\"])):\n",
    "        print(measure[\"acc_list\"][i], end=\"\\t\")\n",
    "\n",
    "def parse_total(name, measure):\n",
    "    print(common_parse(name, \"Inconsistency Together\"))\n",
    "    print(measure[\"inconsist_tot\"])\n",
    "    return measure[\"inconsist_tot\"]"
   ]
  },
  {
   "cell_type": "code",
   "execution_count": null,
   "id": "9df1c2fd",
   "metadata": {},
   "outputs": [],
   "source": [
    "def read_result(evaluator, bname):\n",
    "    global rec\n",
    "    e = evaluator\n",
    "    print(\"=\"*50)\n",
    "    rec[bname] = []\n",
    "    for name in e.names[:-3]:\n",
    "        parse_pairwise_ic(name, e._measure_pairwise(name))\n",
    "        print()\n",
    "        parse_acc(name,e._measure_acc(name))\n",
    "        print()\n",
    "        tot = parse_total(name, e._measure([name]))\n",
    "        true_name = \"_\".join(name.split(\"_\")[-2:])\n",
    "        rec[bname].append((true_name,tot))\n",
    "        print(tot)\n",
    "def draw_pic(picname):\n",
    "    names = [\"vanilla\",\"lwf\", \"ewc\"]\n",
    "    plt.figure(figsize=(10,10))\n",
    "    tasks = []\n",
    "    vals = []\n",
    "    comps = []\n",
    "    print(rec)\n",
    "    for name in names:\n",
    "        for v in rec[name]:\n",
    "            task, val = v\n",
    "            comps.append(name)\n",
    "            tasks.append(task)\n",
    "            vals.append(val)\n",
    "    df = pd.DataFrame({\"Task\":tasks, \"Method\":comps, \"Inconsistency\":vals})\n",
    "    pd.melt(df, id_vars=['Task'], value_vars=['Inconsistency'])\n",
    "    sns.barplot(x = 'Task', y = 'Inconsistency', data = df, hue=\"Method\")\n",
    "    plt.ylabel('Inconsistency')\n",
    "    plt.title('Inconsistency over different baselins');\n",
    "    plt.show()\n",
    "    plt.savefig(\"Inconsistency_{}.png\".format(picname))"
   ]
  },
  {
   "cell_type": "code",
   "execution_count": null,
   "id": "e3f99fdd",
   "metadata": {},
   "outputs": [],
   "source": [
    "epps = EPPS()\n",
    "for i in range(5):\n",
    "    rec = {}\n",
    "    #epps.load(\"results/cifar10_5_domain_inc\")\n",
    "    epps.load(\"results/cifar10_ResNet18_#vanilla_DScifar10_CIMmask_CTdomain_inc_DAsequential_CvgD9.00e-01_CvgT1.000000e-03_DomS5/Seed1\")\n",
    "    read_result(epps, \"vanilla\")\n",
    "    epps.load(\"results/cifar10_ResNet18_#lwf1.00e+00_DScifar10_CIMmask_CTdomain_inc_DAsequential_CvgD9.00e-01_CvgT1.000000e-03_DomS5/Seed1\")\n",
    "    read_result(epps, \"lwf\")\n",
    "    epps.load(\"results/cifar10_ResNet18_#ewc1.00e+00_DScifar10_CIMmask_CTdomain_inc_DAsequential_CvgD9.00e-01_CvgT1.000000e-03_DomS5/Seed1\")\n",
    "    read_result(epps,\"ewc\")\n",
    "    draw_pic(\"Domain_Inc_seed_{}\".format(i))"
   ]
  },
  {
   "cell_type": "code",
   "execution_count": null,
   "id": "4cda4672",
   "metadata": {},
   "outputs": [],
   "source": [
    "\n"
   ]
  },
  {
   "cell_type": "code",
   "execution_count": null,
   "id": "a279ae71",
   "metadata": {},
   "outputs": [],
   "source": [
    "print(epps.names)\n",
    "print(epps.hist_version[\"pertask_0_test\"][:10,:10])"
   ]
  },
  {
   "cell_type": "code",
   "execution_count": null,
   "id": "fd21814e",
   "metadata": {},
   "outputs": [],
   "source": []
  },
  {
   "cell_type": "code",
   "execution_count": null,
   "id": "a06d4af3",
   "metadata": {},
   "outputs": [],
   "source": []
  }
 ],
 "metadata": {
  "kernelspec": {
   "display_name": "Python 3",
   "language": "python",
   "name": "python3"
  },
  "language_info": {
   "codemirror_mode": {
    "name": "ipython",
    "version": 3
   },
   "file_extension": ".py",
   "mimetype": "text/x-python",
   "name": "python",
   "nbconvert_exporter": "python",
   "pygments_lexer": "ipython3",
   "version": "3.8.5"
  }
 },
 "nbformat": 4,
 "nbformat_minor": 5
}

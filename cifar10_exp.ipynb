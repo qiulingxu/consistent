{
 "cells": [
  {
   "cell_type": "code",
   "execution_count": null,
   "metadata": {},
   "outputs": [],
   "source": [
    "%load_ext autoreload\n",
    "%autoreload 2"
   ]
  },
  {
   "cell_type": "code",
   "execution_count": null,
   "metadata": {},
   "outputs": [],
   "source": [
    "import matplotlib.pyplot as plt\n",
    "import pandas as pd\n",
    "from cl.eval import EvalReader as EPPS\n",
    "import seaborn as sns\n",
    "import numpy as np\n"
   ]
  },
  {
   "cell_type": "code",
   "execution_count": null,
   "metadata": {},
   "outputs": [],
   "source": [
    "def print1(*arg, **karg):\n",
    "    pass\n",
    "\n",
    "def common_parse(name, add):\n",
    "    if name.find(\"pertask\")>=0:\n",
    "        _, tid, fold = name.split(\"_\")\n",
    "        name = \"{} on fold {}\".format(tid, fold)\n",
    "    return \"Result of Task {} {}:\".format(name, add)\n",
    "def listdct_to_dct(lst, kname, vname):\n",
    "    ret = {}\n",
    "    for d in lst:\n",
    "        ret[tuple(d[kname])] = d[vname]\n",
    "    return ret\n",
    "def parse_pairwise_ic(name, measure):\n",
    "    tname = common_parse(name, \"Pairwise Inconsistency\")\n",
    "    print(tname)\n",
    "    pairwise = listdct_to_dct(measure[\"inconsist_pairwise\"], kname=\"compare\", vname=\"consistency\")\n",
    "    idx = measure[\"index\"]\n",
    "    l = len(idx)\n",
    "    _idx_name = [\"Model {}\".format(i) for i in idx]\n",
    "    _df = pd.DataFrame(index = _idx_name[:-1], columns = _idx_name[1:]).fillna(\"\")\n",
    "    for i in range(l):\n",
    "        for j in range(i+1, l):\n",
    "            _df.loc[_idx_name[i], _idx_name[j]] = pairwise[(idx[i],idx[j])]\n",
    "    #_df.style.set_caption(tname)\n",
    "    print(_df)\n",
    "    return _df\n",
    "\n",
    "def parse_acc(name, measure):\n",
    "    print(common_parse(name, \"Accuracy Per Step\"))\n",
    "    for i in range(len(measure[\"index\"])):\n",
    "        print(measure[\"acc_list\"][i], end=\"\\t\")\n",
    "    print(\"avg acc\", np.mean(measure[\"acc_list\"]))\n",
    "    return measure[\"acc_list\"][-1]#np.mean(measure[\"acc_list\"])\n",
    "\n",
    "def parse_total(name, measure):\n",
    "    print(common_parse(name, \"Inconsistency Together\"))\n",
    "    print(measure[\"inconsist_tot\"])\n",
    "    return measure[\"inconsist_tot\"]"
   ]
  },
  {
   "cell_type": "code",
   "execution_count": null,
   "metadata": {},
   "outputs": [],
   "source": [
    "def read_result(evaluator, bname):\n",
    "    global rec\n",
    "    e = evaluator\n",
    "    print(\"=\"*50)\n",
    "    rec[bname] = []\n",
    "    print(bname)\n",
    "    for name in e.names[:-3]:\n",
    "        parse_pairwise_ic(name, e._measure_pairwise(name))\n",
    "        print()\n",
    "        acc = parse_acc(name,e._measure_acc(name))\n",
    "        print()\n",
    "        tot = parse_total(name, e._measure([name]))\n",
    "        true_name = \"_\".join(name.split(\"_\")[-2:])\n",
    "        rec[bname].append((true_name,tot,acc))\n",
    "        print(tot)\n",
    "def draw_pic(picname):\n",
    "    \n",
    "    names = [\"vanilla_scratch\", \"vanilla_finetune\", \"ewc\", \"lwf\"]#, \"lwf_scratch\", \"ewc_scratch\"]\n",
    "    tasks = []\n",
    "    vals = []\n",
    "    comps = []\n",
    "    accs = []\n",
    "    print(rec)\n",
    "    for name in names:\n",
    "        for v in rec[name]:\n",
    "            task, val, acc = v\n",
    "            comps.append(name)\n",
    "            tasks.append(task)\n",
    "            accs.append(acc)\n",
    "            vals.append(val)\n",
    "    plt.figure(figsize=(20,10))\n",
    "    plt.subplot(1,2,1)\n",
    "    df = pd.DataFrame({\"Task\":tasks, \"Method\":comps, \"Inconsistency\":vals, \"Acc\":accs})\n",
    "    pd.melt(df, id_vars=['Task'], value_vars=['Inconsistency'])\n",
    "    sns.barplot(x = 'Task', y = 'Inconsistency', data = df, hue=\"Method\")\n",
    "    plt.ylabel('Inconsistency')\n",
    "    plt.title('Inconsistency over different baselins')\n",
    "    #plt.savefig(\"Inconsistency_{}.png\".format(picname))\n",
    "    #plt.show()\n",
    "    #plt.figure(figsize=(10,10))\n",
    "    plt.subplot(1,2,2)\n",
    "    df = pd.DataFrame({\"Task\":tasks, \"Method\":comps, \"Inconsistency\":vals, \"Acc\":accs})\n",
    "    pd.melt(df, id_vars=['Task'], value_vars=['Acc'])\n",
    "    sns.barplot(x = 'Task', y = 'Acc', data = df, hue=\"Method\")\n",
    "    plt.ylabel('Acc')\n",
    "    plt.title('Acc over different baselins')\n",
    "    plt.savefig(\"Acc_{}.png\".format(picname))\n",
    "    plt.show()"
   ]
  },
  {
   "cell_type": "code",
   "execution_count": null,
   "metadata": {},
   "outputs": [],
   "source": [
    "epps = EPPS()\n",
    "for i in range(1):\n",
    "    rec = {}\n",
    "    #epps.load(\"results/cifar10_5_domain_inc\")\n",
    "    epps.load(\"results/cifar10_ResNet18_1.0e-02_#vanilla_DScifar10_CIMmask_CTdomain_inc_DAsequential_CvgD9.00e-01_CvgT1.000000e-03_DomS5/Seed{}\".format(i))\n",
    "    read_result(epps, \"vanilla_finetune\")\n",
    "    epps.load(\"results/cifar10_ResNet18_1.0e-02_#lwf1.00e+00_DScifar10_CIMmask_CTdomain_inc_DAsequential_CvgD9.00e-01_CvgT1.000000e-03_DomS5/Seed{}\".format(i))\n",
    "    read_result(epps, \"lwf\")\n",
    "    epps.load(\"results/cifar10_ResNet18_1.0e-02_#ewc5.00e+03_DScifar10_CIMmask_CTdomain_inc_DAsequential_CvgD9.00e-01_CvgT1.000000e-03_DomS5/Seed{}\".format(i))\n",
    "    read_result(epps,\"ewc\")\n",
    "    epps.load(\"results/cifar10_ResNet18_1.0e-02_#scratch_DScifar10_CIMmask_CTdomain_inc_DAsequential_CvgD9.00e-01_CvgT1.000000e-03_DomS5/Seed{}\".format(i))\n",
    "    read_result(epps, \"vanilla_scratch\")\n",
    "    \"\"\"epps.load(\"results/cifar10_ResNet18_1.0e-02_#lwf1.00e+00#scratch_DScifar10_CIMmask_CTdomain_inc_DAsequential_CvgD9.00e-01_CvgT1.000000e-03_DomS5/Seed{}\".format(i))\n",
    "    read_result(epps, \"lwf_scratch\")\n",
    "    epps.load(\"results/cifar10_ResNet18_1.0e-02_#ewc5.00e+03#scratch_DScifar10_CIMmask_CTdomain_inc_DAsequential_CvgD9.00e-01_CvgT1.000000e-03_DomS5/Seed{}\".format(i))\n",
    "    read_result(epps,\"ewc_scratch\")\"\"\"\n",
    "    draw_pic(\"Domain_Inc_seed_{}\".format(i))\n",
    "for i in range(1):\n",
    "    rec = {}\n",
    "    #epps.load(\"results/cifar10_5_domain_inc\")\n",
    "    epps.load(\"results/cifar10_ResNet18_1.0e-02_#vanilla_DScifar10_CIMmask_CTdata_inc_DAsequential_CvgD9.00e-01_CvgT1.000000e-03_DomS5/Seed{}\".format(i))\n",
    "    read_result(epps, \"vanilla_finetune\")\n",
    "    epps.load(\"results/cifar10_ResNet18_1.0e-02_#lwf1.00e+00_DScifar10_CIMmask_CTdata_inc_DAsequential_CvgD9.00e-01_CvgT1.000000e-03_DomS5/Seed{}\".format(i))\n",
    "    read_result(epps, \"lwf\")\n",
    "    epps.load(\"results/cifar10_ResNet18_1.0e-02_#scratch_DScifar10_CIMmask_CTdata_inc_DAsequential_CvgD9.00e-01_CvgT1.000000e-03_DomS5/Seed{}\".format(i))\n",
    "    read_result(epps, \"vanilla_scratch\")\n",
    "    epps.load(\"results/cifar10_ResNet18_1.0e-02_#ewc5.00e+03_DScifar10_CIMmask_CTdata_inc_DAsequential_CvgD9.00e-01_CvgT1.000000e-03_DomS5/Seed{}\".format(i))\n",
    "    read_result(epps,\"ewc\")\n",
    "    \"\"\"epps.load(\"results/cifar10_ResNet18_1.0e-02_#lwf1.00e+00#scratch_DScifar10_CIMmask_CTdata_inc_DAsequential_CvgD9.00e-01_CvgT1.000000e-03_DomS5/Seed{}\".format(i))\n",
    "    read_result(epps, \"lwf_scratch\")\n",
    "    epps.load(\"results/cifar10_ResNet18_1.0e-02_#ewc5.00e+03#scratch_DScifar10_CIMmask_CTdata_inc_DAsequential_CvgD9.00e-01_CvgT1.000000e-03_DomS5/Seed{}\".format(i))\n",
    "    read_result(epps,\"ewc_scratch\")\"\"\"\n",
    "    draw_pic(\"Data_Inc_seed_{}\".format(i))    "
   ]
  },
  {
   "cell_type": "code",
   "execution_count": null,
   "metadata": {},
   "outputs": [],
   "source": [
    "\n"
   ]
  },
  {
   "cell_type": "code",
   "execution_count": null,
   "metadata": {},
   "outputs": [],
   "source": [
    "print(epps.names)\n",
    "print(epps.hist_version[\"pertask_0_test\"][:10,:10])"
   ]
  },
  {
   "cell_type": "code",
   "execution_count": null,
   "metadata": {},
   "outputs": [],
   "source": []
  },
  {
   "cell_type": "code",
   "execution_count": null,
   "metadata": {},
   "outputs": [],
   "source": []
  }
 ],
 "metadata": {
  "kernelspec": {
   "display_name": "Python 3",
   "language": "python",
   "name": "python3"
  },
  "language_info": {
   "codemirror_mode": {
    "name": "ipython",
    "version": 3
   },
   "file_extension": ".py",
   "mimetype": "text/x-python",
   "name": "python",
   "nbconvert_exporter": "python",
   "pygments_lexer": "ipython3",
   "version": "3.7.6"
  }
 },
 "nbformat": 4,
 "nbformat_minor": 5
}
